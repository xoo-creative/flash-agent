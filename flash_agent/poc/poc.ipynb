{
 "cells": [
  {
   "cell_type": "code",
   "execution_count": 1,
   "metadata": {},
   "outputs": [
    {
     "data": {
      "text/plain": [
       "True"
      ]
     },
     "execution_count": 1,
     "metadata": {},
     "output_type": "execute_result"
    }
   ],
   "source": [
    "import os\n",
    "import json\n",
    "import time\n",
    "\n",
    "from dotenv import load_dotenv\n",
    "from langchain.chat_models import ChatOpenAI\n",
    "from langchain.prompts.chat import (\n",
    "    ChatPromptTemplate,\n",
    "    HumanMessagePromptTemplate,\n",
    "    SystemMessagePromptTemplate,\n",
    ")\n",
    "from langchain.schema import HumanMessage, SystemMessage\n",
    "from IPython.display import display, Markdown\n",
    "from openai import OpenAI\n",
    "from tavily import TavilyClient\n",
    "\n",
    "load_dotenv(\"../.env\")"
   ]
  },
  {
   "cell_type": "code",
   "execution_count": 3,
   "metadata": {},
   "outputs": [],
   "source": [
    "chat = ChatOpenAI(temperature=0)"
   ]
  },
  {
   "cell_type": "code",
   "execution_count": 2,
   "metadata": {},
   "outputs": [],
   "source": [
    "# Utils\n",
    "def load_text(path):\n",
    "    with open(path, \"r\") as fp:\n",
    "        return fp.read()\n",
    "\n",
    "\n",
    "def load_prompt(prompt):\n",
    "    return load_text(f\"../prompts/{prompt}.txt\")\n",
    "\n",
    "\n",
    "def write_section(section_title: str, technology_name: str) -> str:\n",
    "    try:\n",
    "        requested_prompt = load_prompt(section_title)\n",
    "    except:\n",
    "        raise RuntimeError(\"Section name provided is not one of the valid sections. Please check the `prompts` folder for options.\")\n",
    "    \n",
    "    if technology_name == \"\":\n",
    "        raise RuntimeError(\"No technology_name provided, but it is required.\")\n",
    "\n",
    "    human_prompt_template = \"{technology_name}\"\n",
    "\n",
    "    system_message_prompt = SystemMessagePromptTemplate.from_template(requested_prompt)\n",
    "    human_message_prompt = HumanMessagePromptTemplate.from_template(human_prompt_template)\n",
    "\n",
    "    chat_prompt = ChatPromptTemplate.from_messages(\n",
    "        [system_message_prompt, human_message_prompt]\n",
    "    )\n",
    "\n",
    "    chat_response = chat(\n",
    "        chat_prompt.format_prompt(\n",
    "            technology_name=technology_name\n",
    "        ).to_messages()\n",
    "    )\n",
    "\n",
    "    return chat_response.content\n"
   ]
  },
  {
   "cell_type": "markdown",
   "metadata": {},
   "source": [
    "## Pick your technology here"
   ]
  },
  {
   "cell_type": "code",
   "execution_count": 10,
   "metadata": {},
   "outputs": [],
   "source": [
    "technology = \"AWS CloudFormation\""
   ]
  },
  {
   "cell_type": "markdown",
   "metadata": {},
   "source": [
    "## Onboarding"
   ]
  },
  {
   "cell_type": "code",
   "execution_count": 11,
   "metadata": {},
   "outputs": [
    {
     "data": {
      "text/markdown": [
       "## Onboarding\n",
       "\n",
       "### What problem does this aim to solve?\n",
       "\n",
       "AWS CloudFormation is a service that aims to simplify the process of provisioning and managing resources in the Amazon Web Services (AWS) cloud. It addresses the challenge of manually setting up and configuring resources, which can be time-consuming, error-prone, and difficult to reproduce consistently. CloudFormation allows developers to define their infrastructure as code, using a declarative template, and then automatically provisions and manages the resources specified in that template. This eliminates the need for manual intervention and ensures that the infrastructure is consistent, scalable, and easily reproducible.\n",
       "\n",
       "### What sub-category of technologies is this?\n",
       "\n",
       "AWS CloudFormation falls under the sub-category of \"Infrastructure as Code\" (IaC) within the broader field of cloud computing. IaC is a practice that involves managing and provisioning infrastructure resources through machine-readable definition files, rather than manually configuring them. CloudFormation is a powerful tool for implementing IaC in AWS, as it provides a way to define and manage AWS resources using JSON or YAML templates. It enables developers to treat infrastructure as code, apply version control, and automate the provisioning and management of resources in a reliable and scalable manner."
      ],
      "text/plain": [
       "<IPython.core.display.Markdown object>"
      ]
     },
     "metadata": {},
     "output_type": "display_data"
    }
   ],
   "source": [
    "onboarding = write_section(\"onboarding\", technology)\n",
    "display(Markdown(onboarding))"
   ]
  },
  {
   "cell_type": "markdown",
   "metadata": {},
   "source": [
    "## Developer life with/without the tool"
   ]
  },
  {
   "cell_type": "code",
   "execution_count": 6,
   "metadata": {},
   "outputs": [
    {
     "data": {
      "text/markdown": [
       "## Developer life with/without this tool\n",
       "\n",
       "### Without Firebase\n",
       "\n",
       "#### Backend Development\n",
       "\n",
       "Developers need to set up and maintain their own backend infrastructure, including servers, databases, and authentication systems.\n",
       "This requires significant time and effort, as well as expertise in managing and scaling infrastructure.\n",
       "\n",
       "#### Real-time Updates\n",
       "\n",
       "Implementing real-time updates in applications requires complex server-side code and infrastructure.\n",
       "Developers need to handle data synchronization, push notifications, and client-server communication.\n",
       "\n",
       "#### Authentication and Authorization\n",
       "\n",
       "Developers need to build their own authentication and authorization systems, including user management, password hashing, and access control.\n",
       "This can be time-consuming and error-prone, especially for complex applications.\n",
       "\n",
       "#### Example Scenario\n",
       "\n",
       "A developer wants to build a real-time chat application with user authentication and authorization. Without Firebase, they would need to set up their own server, database, and authentication system, as well as handle real-time updates and user management.\n",
       "\n",
       "### With Firebase\n",
       "\n",
       "#### Backend as a Service (BaaS)\n",
       "\n",
       "Firebase provides a fully managed backend infrastructure, including servers, databases, and authentication systems.\n",
       "Developers can focus on building features and functionality without worrying about infrastructure management.\n",
       "\n",
       "#### Real-time Database and Updates\n",
       "\n",
       "Firebase offers a real-time database that automatically synchronizes data across clients in real-time.\n",
       "Developers can easily implement real-time updates, such as chat applications or collaborative editing, without writing complex server-side code.\n",
       "\n",
       "#### Authentication and Authorization\n",
       "\n",
       "Firebase provides built-in authentication and authorization services, including user management, social login integration, and access control.\n",
       "Developers can easily authenticate users and control access to resources, saving time and effort.\n",
       "\n",
       "#### Example Scenario\n",
       "\n",
       "A developer wants to build a real-time chat application with user authentication and authorization. With Firebase, they can use the Firebase Realtime Database to handle real-time updates and the Firebase Authentication service to manage user authentication and authorization. This significantly reduces the development time and effort required for building such an application."
      ],
      "text/plain": [
       "<IPython.core.display.Markdown object>"
      ]
     },
     "metadata": {},
     "output_type": "display_data"
    }
   ],
   "source": [
    "with_and_without = write_section(\"with-and-without\", technology)\n",
    "display(Markdown(with_and_without))"
   ]
  },
  {
   "cell_type": "markdown",
   "metadata": {},
   "source": [
    "## Core Concepts"
   ]
  },
  {
   "cell_type": "code",
   "execution_count": 7,
   "metadata": {},
   "outputs": [
    {
     "data": {
      "text/markdown": [
       "## Core Concepts\n",
       "\n",
       "### Firebase Realtime Database\n",
       "Firebase Realtime Database is a NoSQL cloud-hosted database that allows developers to store and sync data in real-time. It uses a JSON-like data structure and provides real-time synchronization across multiple clients, enabling collaborative and responsive applications. The Realtime Database is schemaless, meaning developers can store and retrieve data without defining a specific schema beforehand.\n",
       "\n",
       "### Firebase Authentication\n",
       "Firebase Authentication provides a secure and easy-to-use authentication system for developers to authenticate users in their applications. It supports various authentication methods, including email/password, phone number, social media logins (such as Google, Facebook, and Twitter), and more. Firebase Authentication handles user management, authentication flows, and secure token generation, making it simple to implement user authentication in applications.\n",
       "\n",
       "### Firebase Cloud Messaging\n",
       "Firebase Cloud Messaging (FCM) is a cross-platform messaging solution that allows developers to send push notifications to their applications' users. It provides a reliable and scalable infrastructure for delivering messages to iOS, Android, and web applications. With FCM, developers can send targeted messages, handle message delivery and receipt, and even send messages to specific user segments or topics.\n",
       "\n",
       "### Firebase Hosting\n",
       "Firebase Hosting is a fast and secure hosting service for web applications, allowing developers to deploy and serve their static and dynamic content with ease. It provides a global content delivery network (CDN) that ensures fast loading times for users worldwide. Firebase Hosting integrates seamlessly with other Firebase services, making it convenient to build and deploy full-stack applications.\n",
       "\n",
       "### Firebase Cloud Firestore\n",
       "Firebase Cloud Firestore is a flexible and scalable NoSQL document database that allows developers to store, sync, and query data for their applications. It offers a more advanced querying and indexing system compared to the Realtime Database, enabling complex queries and efficient data retrieval. Cloud Firestore also provides real-time synchronization and offline support, making it suitable for building responsive and collaborative applications."
      ],
      "text/plain": [
       "<IPython.core.display.Markdown object>"
      ]
     },
     "metadata": {},
     "output_type": "display_data"
    }
   ],
   "source": [
    "core_concepts = write_section(\"core-concepts\", technology)\n",
    "display(Markdown(core_concepts))"
   ]
  },
  {
   "cell_type": "markdown",
   "metadata": {},
   "source": [
    "## Core APIs"
   ]
  },
  {
   "cell_type": "code",
   "execution_count": 8,
   "metadata": {},
   "outputs": [
    {
     "data": {
      "text/markdown": [
       "## Core APIs\n",
       "\n",
       "### `firebase init`\n",
       "\n",
       "- Purpose: Initializes a new Firebase project in your current directory, setting up the necessary Firebase configuration files.\n",
       "- Usage Example:\n",
       "\n",
       "```bash\n",
       "mkdir MyProject\n",
       "cd MyProject\n",
       "# Initializes a new Firebase project in the current directory\n",
       "firebase init\n",
       "```\n",
       "\n",
       "### `firebase deploy`\n",
       "\n",
       "- Purpose: Deploys your Firebase project to the Firebase hosting server, making it accessible to the public.\n",
       "- Usage Example:\n",
       "\n",
       "```bash\n",
       "# Deploys the Firebase project to the hosting server\n",
       "firebase deploy\n",
       "```\n",
       "\n",
       "### `firebase firestore`\n",
       "\n",
       "- Purpose: Interacts with the Firebase Firestore database, allowing you to manage collections and documents.\n",
       "- Usage Example:\n",
       "\n",
       "```bash\n",
       "# Lists all collections in the Firestore database\n",
       "firebase firestore:list\n",
       "```\n",
       "\n",
       "### `firebase auth`\n",
       "\n",
       "- Purpose: Manages authentication and user accounts in your Firebase project.\n",
       "- Usage Example:\n",
       "\n",
       "```bash\n",
       "# Lists all users in the Firebase project\n",
       "firebase auth:list\n",
       "```\n",
       "\n",
       "### `firebase functions`\n",
       "\n",
       "- Purpose: Manages and deploys Cloud Functions in your Firebase project.\n",
       "- Usage Example:\n",
       "\n",
       "```bash\n",
       "# Deploys the Cloud Functions to the Firebase project\n",
       "firebase functions:deploy\n",
       "```\n",
       "\n",
       "### `firebase storage`\n",
       "\n",
       "- Purpose: Interacts with the Firebase Storage service, allowing you to upload and manage files.\n",
       "- Usage Example:\n",
       "\n",
       "```bash\n",
       "# Lists all files in the Firebase Storage bucket\n",
       "firebase storage:list\n",
       "```\n",
       "\n",
       "### `firebase hosting`\n",
       "\n",
       "- Purpose: Manages the Firebase Hosting service, allowing you to configure and deploy your web app.\n",
       "- Usage Example:\n",
       "\n",
       "```bash\n",
       "# Lists all deployed sites in the Firebase project\n",
       "firebase hosting:sites:list\n",
       "```"
      ],
      "text/plain": [
       "<IPython.core.display.Markdown object>"
      ]
     },
     "metadata": {},
     "output_type": "display_data"
    }
   ],
   "source": [
    "core_apis = write_section(\"core-apis\", technology)\n",
    "display(Markdown(core_apis))"
   ]
  },
  {
   "cell_type": "markdown",
   "metadata": {},
   "source": [
    "## Small Running Example"
   ]
  },
  {
   "cell_type": "code",
   "execution_count": 9,
   "metadata": {},
   "outputs": [
    {
     "data": {
      "text/markdown": [
       "## Small Running Example\n",
       "\n",
       "This section provides a practical example of using Firebase, starting from installation to running a simple application.\n",
       "\n",
       "### Installation\n",
       "\n",
       "1. Install Firebase CLI:\n",
       "\n",
       "- Install Node.js: \n",
       "  - For macOS and Windows: Download the Node.js installer from the Node.js website and follow the installation instructions.\n",
       "  - For Linux: Use the package manager to install Node.js. For example, on Ubuntu:\n",
       "  ```\n",
       "  sudo apt-get update\n",
       "  sudo apt-get install nodejs\n",
       "  ```\n",
       "\n",
       "- Install Firebase CLI:\n",
       "  - Open a terminal or command prompt.\n",
       "  - Run the following command to install the Firebase CLI globally:\n",
       "  ```\n",
       "  npm install -g firebase-tools\n",
       "  ```\n",
       "\n",
       "2. Verify Installation:\n",
       "\n",
       "- Run `firebase --version` to ensure Firebase CLI is installed correctly.\n",
       "\n",
       "### Code\n",
       "\n",
       "Now that Firebase CLI is installed, let's create a simple web application and deploy it using Firebase Hosting.\n",
       "\n",
       "1. Create a New Firebase Project:\n",
       "\n",
       "- Open a terminal or command prompt.\n",
       "- Navigate to the directory where you want to create your project.\n",
       "- Run the following command to initialize a new Firebase project:\n",
       "```\n",
       "firebase init\n",
       "```\n",
       "- Follow the prompts to select the Firebase features you want to use. For this example, select Firebase Hosting.\n",
       "- Choose an existing Firebase project or create a new one.\n",
       "- Set the public directory to `public`.\n",
       "- Configure as a single-page app: No.\n",
       "- Overwrite `index.html`: No.\n",
       "\n",
       "2. Create a Simple Web Application:\n",
       "\n",
       "- In the project directory, create a new file named `index.html` with the following content:\n",
       "\n",
       "```html\n",
       "<!DOCTYPE html>\n",
       "<html>\n",
       "<head>\n",
       "  <title>My Firebase App</title>\n",
       "</head>\n",
       "<body>\n",
       "  <h1>Welcome to My Firebase App!</h1>\n",
       "</body>\n",
       "</html>\n",
       "```\n",
       "\n",
       "3. Deploy the Application:\n",
       "\n",
       "- In the terminal or command prompt, run the following command to deploy the application to Firebase Hosting:\n",
       "```\n",
       "firebase deploy\n",
       "```\n",
       "- After the deployment is complete, you will receive a hosting URL. Open it in a web browser to see your deployed application.\n",
       "\n",
       "4. Update the Application:\n",
       "\n",
       "- Open the `index.html` file and make changes to the content. For example, change the `<h1>` tag to `<h1>Welcome to My Updated Firebase App!</h1>`.\n",
       "- Save the file.\n",
       "\n",
       "5. Redeploy the Application:\n",
       "\n",
       "- In the terminal or command prompt, run the following command to redeploy the updated application:\n",
       "```\n",
       "firebase deploy\n",
       "```\n",
       "- After the deployment is complete, refresh the hosting URL in the web browser to see the updated application.\n",
       "\n",
       "Congratulations! You have successfully created and deployed a simple web application using Firebase Hosting."
      ],
      "text/plain": [
       "<IPython.core.display.Markdown object>"
      ]
     },
     "metadata": {},
     "output_type": "display_data"
    }
   ],
   "source": [
    "small_runnable_example = write_section(\"small-runnable-example\", technology)\n",
    "display(Markdown(small_runnable_example))"
   ]
  },
  {
   "cell_type": "markdown",
   "metadata": {},
   "source": [
    "## Real Life Examples"
   ]
  },
  {
   "cell_type": "code",
   "execution_count": 7,
   "metadata": {},
   "outputs": [],
   "source": [
    "# Function to perform a Tavily search\n",
    "\n",
    "def write_real_life_examples(technology_name: str) -> str:\n",
    "    # Initialize clients with API keys\n",
    "    openai_client = OpenAI(api_key=os.environ[\"OPENAI_API_KEY\"])\n",
    "    tavily_client = TavilyClient(api_key=os.environ[\"TAVILY_API_KEY\"])\n",
    "\n",
    "    assistant_prompt_instruction=load_prompt(\"real-life-examples\")\n",
    "    assistant = get_assistant(assistant_prompt_instruction, openai_client)\n",
    "\n",
    "    # Create a thread\n",
    "    thread = openai_client.beta.threads.create()\n",
    "    print(f\"Thread ID: {thread}\")\n",
    "\n",
    "    message = openai_client.beta.threads.messages.create(\n",
    "        thread_id=thread.id,\n",
    "        role=\"user\",\n",
    "        content=technology_name,\n",
    "    )\n",
    "\n",
    "    # Create a run\n",
    "    run = openai_client.beta.threads.runs.create(\n",
    "        thread_id=thread.id,\n",
    "        assistant_id=assistant.id,\n",
    "    )\n",
    "    print(f\"Run ID: {run.id}\")\n",
    "\n",
    "    # Wait for run to complete\n",
    "    run = wait_for_run_completion(thread.id, run.id, openai_client)\n",
    "\n",
    "    if run.status == 'failed':\n",
    "        print(run.error)\n",
    "        exit\n",
    "    elif run.status == 'requires_action':\n",
    "        run = submit_tool_outputs(thread.id, run.id, run.required_action.submit_tool_outputs.tool_calls, openai_client, tavily_client)\n",
    "        run = wait_for_run_completion(thread.id, run.id, openai_client)\n",
    "\n",
    "    # Print messages from the thread\n",
    "    real_life_examples = get_assistant_response(thread.id, openai_client)\n",
    "\n",
    "    return real_life_examples\n",
    "    \n",
    "\n",
    "\n",
    "def tavily_search(query, tavily_client: TavilyClient):\n",
    "    search_result = tavily_client.get_search_context(query, search_depth=\"advanced\", max_tokens=8000, include_domains=[\"github.com\"])\n",
    "    return search_result\n",
    "\n",
    "# Function to wait for a run to complete\n",
    "def wait_for_run_completion(thread_id, run_id, openai_client: OpenAI):\n",
    "    while True:\n",
    "        time.sleep(1)\n",
    "        run = openai_client.beta.threads.runs.retrieve(thread_id=thread_id, run_id=run_id)\n",
    "        print(f\"Current run status: {run.status}\")\n",
    "        if run.status in ['completed', 'failed', 'requires_action']:\n",
    "            return run\n",
    "\n",
    "# Function to handle tool output submission\n",
    "def submit_tool_outputs(thread_id, run_id, tools_to_call, openai_client: OpenAI, tavily_client: TavilyClient):\n",
    "    tool_output_array = []\n",
    "    for tool in tools_to_call:\n",
    "        output = None\n",
    "        tool_call_id = tool.id\n",
    "        function_name = tool.function.name\n",
    "        function_args = tool.function.arguments\n",
    "\n",
    "        if function_name == \"tavily_search\":\n",
    "            output = tavily_search(query=json.loads(function_args)[\"query\"], tavily_client=tavily_client)\n",
    "\n",
    "        if output:\n",
    "            tool_output_array.append({\"tool_call_id\": tool_call_id, \"output\": output})\n",
    "\n",
    "    return openai_client.beta.threads.runs.submit_tool_outputs(\n",
    "        thread_id=thread_id,\n",
    "        run_id=run_id,\n",
    "        tool_outputs=tool_output_array\n",
    "    )\n",
    "\n",
    "def get_assistant_response(thread_id: str, openai_client: OpenAI):\n",
    "    messages = openai_client.beta.threads.messages.list(thread_id=thread_id)\n",
    "    return messages.data[0].content[0].text.value\n",
    "\n",
    "\n",
    "def get_assistant(prompt: str, openai_client: OpenAI) -> str:\n",
    "    \"\"\"\n",
    "    Returns OpenAI assistant that has instructions of `prompt`\n",
    "    \"\"\"\n",
    "    curr_assistant_id = os.environ[\"REAL_LIFE_EXAMPLES_OPENAI_ASSISTANT_ID\"]\n",
    "\n",
    "    curr_assistant = openai_client.beta.assistants.retrieve(curr_assistant_id)\n",
    "\n",
    "    if curr_assistant.instructions == prompt:\n",
    "        return curr_assistant\n",
    "    \n",
    "    else:\n",
    "        print(\"Current assistant stored in ENV does not use the provided prompt. Making a new assistant with new prompt.\")\n",
    "    \n",
    "        # Create the assistant\n",
    "        assistant = openai_client.beta.assistants.create(\n",
    "            instructions=prompt,\n",
    "            model=\"gpt-4-1106-preview\",\n",
    "            tools=[{\n",
    "                \"type\": \"function\",\n",
    "                \"function\": {\n",
    "                    \"name\": \"tavily_search\",\n",
    "                    \"description\": \"Get information on recent events from the web.\",\n",
    "                    \"parameters\": {\n",
    "                        \"type\": \"object\",\n",
    "                        \"properties\": {\n",
    "                            \"query\": {\"type\": \"string\", \"description\": \"The search query to use. For example: 'Latest news on Nvidia stock performance'\"},\n",
    "                        },\n",
    "                        \"required\": [\"query\"]\n",
    "                    }\n",
    "                }\n",
    "            }]\n",
    "        )\n",
    "        os.environ[\"REAL_LIFE_EXAMPLES_OPENAI_ASSISTANT_ID\"] = assistant.id\n",
    "        print(\"Stored this assistant id into ENV for this session. Please change permanently in your .env file if you want to use this assistant again.\")\n",
    "        return assistant"
   ]
  },
  {
   "cell_type": "code",
   "execution_count": 12,
   "metadata": {},
   "outputs": [
    {
     "name": "stdout",
     "output_type": "stream",
     "text": [
      "Thread ID: Thread(id='thread_5noLSR7emRG4BUSouOcKNLYx', created_at=1704120155, metadata={}, object='thread')\n",
      "Run ID: run_ux3CrbRkiYHBUSvTm1IcMsiL\n",
      "Current run status: in_progress\n",
      "Current run status: requires_action\n",
      "Current run status: in_progress\n",
      "Current run status: in_progress\n",
      "Current run status: in_progress\n",
      "Current run status: in_progress\n",
      "Current run status: in_progress\n",
      "Current run status: in_progress\n",
      "Current run status: in_progress\n",
      "Current run status: in_progress\n",
      "Current run status: completed\n"
     ]
    },
    {
     "data": {
      "text/markdown": [
       "## Real Life Examples\n",
       "\n",
       "### AWS CloudFormation Sample Templates\n",
       "\n",
       "- Description: A repository with a collection of useful CloudFormation templates that demonstrate how to declare specific AWS resources for various use cases, maintained by the AWS CloudFormation team and approved contributors.\n",
       "- URL: https://github.com/awslabs/aws-cloudformation-templates\n",
       "\n",
       "### Awesome CloudFormation\n",
       "\n",
       "- Description: A curated list of resources and projects for working with AWS CloudFormation, which includes tools designed to improve the CloudFormation user experience.\n",
       "- URL: https://github.com/aws-cloudformation/awesome-cloudformation\n",
       "\n",
       "### AWS CloudFormation Pipeline Example\n",
       "\n",
       "- Description: An example CI/CD pipeline implementation focusing on automated testing tools for CloudFormation templates, created to accompany a blog post on the subject.\n",
       "- URL: https://github.com/JasonAGiles/aws-cloudformation-pipeline-example"
      ],
      "text/plain": [
       "<IPython.core.display.Markdown object>"
      ]
     },
     "metadata": {},
     "output_type": "display_data"
    }
   ],
   "source": [
    "real_life_examples = write_real_life_examples(technology)\n",
    "display(Markdown(real_life_examples))"
   ]
  },
  {
   "cell_type": "code",
   "execution_count": null,
   "metadata": {},
   "outputs": [],
   "source": []
  }
 ],
 "metadata": {
  "kernelspec": {
   "display_name": "flash-env",
   "language": "python",
   "name": "python3"
  },
  "language_info": {
   "codemirror_mode": {
    "name": "ipython",
    "version": 3
   },
   "file_extension": ".py",
   "mimetype": "text/x-python",
   "name": "python",
   "nbconvert_exporter": "python",
   "pygments_lexer": "ipython3",
   "version": "3.9.18"
  }
 },
 "nbformat": 4,
 "nbformat_minor": 2
}
